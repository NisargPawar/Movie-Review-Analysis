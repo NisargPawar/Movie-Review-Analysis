{
 "cells": [
  {
   "cell_type": "markdown",
   "metadata": {},
   "source": [
    "# __INSY 5336: PYTHON PROGRAMMING__\n",
    "### FINAL PROJECT\n",
    "#### NAME: NISARG PAWAR\n",
    "#### STUDENT ID: 1001720812\n",
    "------"
   ]
  },
  {
   "cell_type": "markdown",
   "metadata": {},
   "source": [
    "#### **Objectives:**\n",
    " - Write a python program that fetches movie reviews for the top 50 movies from 3 major websites: IMDB, Metacritics, and Rotten Tomatoes.\n",
    " - Store the data in a comma separated file and in SQLite database\n",
    " - Compare the review style across the 3 websites by calculating the cosine similarity score between the keywords used in the reviews of these 3 websites.\n",
    " - Compare the top 50 movies that are considered top rated across the 3 websites by calculating the cosine similarity score between the genres of movies."
   ]
  },
  {
   "cell_type": "markdown",
   "metadata": {},
   "source": [
    "#### **Solution:**\n",
    " - Step 1: Web Scraping, Download movie title, genre and reviews from the 3 given websites.\n",
    "     - IMDB: Top rated movies\n",
    "     - Rotten Tomatoes: BEST MOVIES OF ALL TIME\n",
    "     - Metacritics: Movies of All Time\n",
    " - Step 2: Store the downloaded data into a CSV file. Use this CSV file to load the same data in an sqlite database\n",
    " - Step 3: Pre-process and clean data and create vocabulary:\n",
    "      - Remove special characters and extra spaces\n",
    "      - Lowercase all text\n",
    "      - create a wordlist and a vocabulary from the movie reviews\n",
    "      - Remove the stop words\n",
    "\n",
    " - Step 4: Use word dictionary to find the top 50 used words on each site, merge this list and create a unique list of words to be the word_attributes.\n",
    " - Step 5: Use this word_attributes list to create movie review vectors for each movie. and calculate cosine similarity between each website (Task 1 complete!)\n",
    " - Step 6: Create a dictionary from the genre details of each movie for each website\n",
    " - Step 7: create a list of unique genres and use this list to create genre vectors for each movie\n",
    " - Step 8: Calculate cosine similarity between each movie using genre vectors. (Task 2 complete!)\n",
    "---"
   ]
  },
  {
   "cell_type": "code",
   "execution_count": 1,
   "metadata": {},
   "outputs": [
    {
     "name": "stderr",
     "output_type": "stream",
     "text": [
      "[nltk_data] Downloading package stopwords to /home/nisarg/nltk_data...\n",
      "[nltk_data]   Package stopwords is already up-to-date!\n"
     ]
    }
   ],
   "source": [
    "import urllib.request, urllib.parse, urllib.error\n",
    "from urllib.parse import urljoin\n",
    "from bs4 import BeautifulSoup\n",
    "import ssl\n",
    "import requests\n",
    "import re\n",
    "import nltk\n",
    "import csv\n",
    "import sqlite3\n",
    "import operator\n",
    "import numpy as np\n",
    "from nltk.corpus import stopwords\n",
    "from nltk.tokenize import RegexpTokenizer\n",
    "nltk.download('stopwords')\n",
    "\n",
    "# Ignore SSL certificate errors\n",
    "ctx = ssl.create_default_context()\n",
    "ctx.check_hostname = False\n",
    "ctx.verify_mode = ssl.CERT_NONE\n",
    "\n",
    "headers = {'User-Agent': 'Mozilla/5.0 (Macintosh; Intel Mac OS X 10_13_6) AppleWebKit/537.36 (KHTML, like Gecko) Chrome/70.0.3538.77 Safari/537.36'}"
   ]
  },
  {
   "cell_type": "markdown",
   "metadata": {},
   "source": [
    "----\n",
    "### Step 1: Web Scraping, Download movie title, genre and reviews from the 3 given websites:\n",
    "\n",
    "#### **IMDB:**\n",
    " - page link: https://www.imdb.com/search/title/?groups=top_250&sort=user_rating\n",
    " - site: https://www.imdb.com/\n",
    " - We need two things: Genres and Reviews\n",
    " - Genres: they are available on the site of the list under the name of the movie and can be scraped by finding \\<span> tag with class = 'genre'\n",
    " - Reviews: Initially th website shows only 25 reviews. To load the other 25 we must manipulate ajax to fetch the additional data. That is why the function get_reviews has two parts - first 25 and second 25. Both of these are then merged and a list of 50 reviews is returned.\n",
    " - All the above fetched data is stored in a dictionary called: IMDB_movie_list in the form: {mocie_name: {genre: [], link: '', reviews: []}}"
   ]
  },
  {
   "cell_type": "code",
   "execution_count": 2,
   "metadata": {},
   "outputs": [],
   "source": [
    "imdb_url = 'https://www.imdb.com/search/title/?groups=top_250&sort=user_rating'\n",
    "imdb_site = 'https://www.imdb.com'\n",
    "imdb_page = requests.get(imdb_url, headers = headers)\n",
    "imdb_soup = BeautifulSoup(imdb_page.content, 'lxml') "
   ]
  },
  {
   "cell_type": "code",
   "execution_count": 3,
   "metadata": {},
   "outputs": [],
   "source": [
    "movies_list = imdb_soup.find('div', class_ = 'lister-list').findAll('div',class_ = 'lister-item-content')"
   ]
  },
  {
   "cell_type": "code",
   "execution_count": 4,
   "metadata": {},
   "outputs": [],
   "source": [
    "def get_reviews(link):\n",
    "    \n",
    "    reviews = []\n",
    "    \n",
    "    rev_page_1 = requests.get(link, headers = headers)\n",
    "    rev_soup_1 = BeautifulSoup(rev_page_1.content, 'lxml')\n",
    "    first_25 = rev_soup_1.find('div', class_ = 'lister-list').findAll('div', class_ = 'lister-item-content')\n",
    "    for rev in first_25:\n",
    "        try:\n",
    "            text = rev.find('div',class_ = 'text show-more__control clickable').text\n",
    "            reviews.append(text)\n",
    "        except:\n",
    "            text = rev.find('div',class_ = 'text show-more__control').text\n",
    "            reviews.append(text)\n",
    "\n",
    "    rev_page_2_url = urljoin(link,rev_soup_1.select(\".load-more-data\")[0]['data-ajaxurl'] + '&paginationKey='+rev_soup_1.select(\".load-more-data\")[0]['data-key'])\n",
    "    rev_page_2 = requests.get(rev_page_2_url, headers = headers)\n",
    "    rev_soup_2 = BeautifulSoup(rev_page_2.content, 'lxml')\n",
    "    second_25 = rev_soup_2.find('div', class_ = 'lister-list').findAll('div', class_ = 'lister-item-content')\n",
    "    for rev in second_25:\n",
    "        try:\n",
    "            text = rev.find('div',class_ = 'text show-more__control clickable').text\n",
    "            reviews.append(text)\n",
    "        except:\n",
    "            text = rev.find('div',class_ = 'text show-more__control').text\n",
    "            reviews.append(text)\n",
    "\n",
    "    return reviews"
   ]
  },
  {
   "cell_type": "code",
   "execution_count": 5,
   "metadata": {},
   "outputs": [],
   "source": [
    "IMDB_movie_list = dict()\n",
    "\n",
    "for movie in movies_list:\n",
    "    \n",
    "    # movie title\n",
    "    title_header = movie.find('h3', class_ = 'lister-item-header')\n",
    "    title = title_header.find('a').text\n",
    "    link = imdb_site + re.search('\\/.*\\/',title_header.find('a').get('href',None)).group(0)\n",
    "\n",
    "    # movie genre\n",
    "    genres = movie.find('span',class_ = 'genre').text.lower().strip()\n",
    "    genres = re.sub('\\s+','',genres).split(',')\n",
    "    \n",
    "    review_link = link + 'reviews?spoiler=hide'\n",
    "    \n",
    "    reviews = get_reviews(review_link)\n",
    "    IMDB_movie_list[title] = {'link':link,'genres':genres,'reviews':reviews}"
   ]
  },
  {
   "cell_type": "code",
   "execution_count": 6,
   "metadata": {},
   "outputs": [
    {
     "name": "stdout",
     "output_type": "stream",
     "text": [
      "dict_keys(['The Shawshank Redemption', 'The Godfather', 'The Dark Knight', 'The Godfather: Part II', '12 Angry Men', 'The Lord of the Rings: The Return of the King', 'Pulp Fiction', \"Schindler's List\", 'Inception', 'Fight Club', 'The Lord of the Rings: The Fellowship of the Ring', 'Forrest Gump', 'The Good, the Bad and the Ugly', 'The Lord of the Rings: The Two Towers', 'The Matrix', 'Goodfellas', 'Star Wars: Episode V - The Empire Strikes Back', \"One Flew Over the Cuckoo's Nest\", 'Hamilton', 'Parasite', 'Interstellar', 'City of God', 'Spirited Away', 'Saving Private Ryan', 'The Green Mile', 'Life Is Beautiful', 'Se7en', 'The Silence of the Lambs', 'Star Wars: Episode IV - A New Hope', 'Harakiri', 'Seven Samurai', \"It's a Wonderful Life\", 'Joker', 'Vikram Vedha', 'Whiplash', 'The Intouchables', 'The Prestige', 'The Departed', 'The Pianist', 'Gladiator', 'American History X', 'The Usual Suspects', 'Léon: The Professional', 'The Lion King', 'Terminator 2: Judgment Day', 'Cinema Paradiso', 'Grave of the Fireflies', 'Back to the Future', 'Once Upon a Time in the West', 'Psycho'])\n"
     ]
    }
   ],
   "source": [
    "print(IMDB_movie_list.keys())"
   ]
  },
  {
   "cell_type": "code",
   "execution_count": 7,
   "metadata": {},
   "outputs": [
    {
     "data": {
      "text/plain": [
       "['action', 'adventure', 'fantasy']"
      ]
     },
     "execution_count": 7,
     "metadata": {},
     "output_type": "execute_result"
    }
   ],
   "source": [
    "IMDB_movie_list['Star Wars: Episode IV - A New Hope']['genres']"
   ]
  },
  {
   "cell_type": "markdown",
   "metadata": {},
   "source": [
    "#### **Rotten Tomatoes:**\n",
    " - page link: https://www.rottentomatoes.com/top/bestofrt/\n",
    " - site: https://www.rottentomatoes.com/\n",
    " - The site only has a list of movies ordered in their ranking.\n",
    " - We must visit the page of each movie for further details.\n",
    " - We need two things: Genres and Reviews\n",
    " - Genres: they are available on the movie page in a 'div' with class = 'meta-value genre'\n",
    " - Reviews: reviews for each movie can be found by appending /reviews to the movie page, we allso add a 'type=user' criteria to the url to get the user reviews instead of critic reviews.\n",
    " - All the above fetched data is stored in a dictionary called: RT_movie_list in the form: {mocie_name: {genre: [], link: '', reviews: []}}\n",
    " - Unfortunately for this site i was unable to fetch 50 reviews since i was unable to simplate the 'next' event to load the rest of reviews. "
   ]
  },
  {
   "cell_type": "code",
   "execution_count": 8,
   "metadata": {},
   "outputs": [],
   "source": [
    "rt_url = 'https://www.rottentomatoes.com/top/bestofrt/'\n",
    "rt_site = 'https://www.rottentomatoes.com'\n",
    "rt_page = requests.get(rt_url, headers = headers)\n",
    "rt_soup = BeautifulSoup(rt_page.content, 'lxml') "
   ]
  },
  {
   "cell_type": "code",
   "execution_count": 9,
   "metadata": {},
   "outputs": [],
   "source": [
    "rt_movies = rt_soup.find('table', class_ = 'table').findAll('tr')[1:51] # skip first one since its the header"
   ]
  },
  {
   "cell_type": "code",
   "execution_count": 10,
   "metadata": {},
   "outputs": [],
   "source": [
    "def get_rt_reviews(link):\n",
    "    reviews = []\n",
    "    rev_page = requests.get(link, headers = headers)\n",
    "    rev_soup = BeautifulSoup(rev_page.content, 'lxml')\n",
    "    \n",
    "    revs = rev_soup.find_all('li', class_ = 'audience-reviews__item')\n",
    "    for rev in revs:\n",
    "        reviews.append(rev.find('p').text)\n",
    "    return reviews"
   ]
  },
  {
   "cell_type": "code",
   "execution_count": 11,
   "metadata": {},
   "outputs": [],
   "source": [
    "RT_movie_list = dict()\n",
    "\n",
    "for movie in rt_movies:\n",
    "    \n",
    "    # movie title\n",
    "    title = movie.find('a').text.strip()\n",
    "    link = rt_site + movie.find('a').get('href',None)\n",
    "    \n",
    "    # movie genre\n",
    "    m_page = requests.get(link, headers = headers)\n",
    "    m_soup = BeautifulSoup(m_page.content, 'lxml') \n",
    "    genres = m_soup.find('div', class_ = 'meta-value genre').text.lower().strip()\n",
    "    genres = re.sub('\\s+','',genres).split(',')\n",
    "    \n",
    "    review_link = link + '/reviews?type=user'\n",
    "    reviews = get_rt_reviews(review_link)\n",
    "    \n",
    "    RT_movie_list[title] = {'link':link, 'genres': genres, 'reviews': reviews}"
   ]
  },
  {
   "cell_type": "code",
   "execution_count": 12,
   "metadata": {},
   "outputs": [
    {
     "name": "stdout",
     "output_type": "stream",
     "text": [
      "dict_keys(['Black Panther (2018)', 'Avengers: Endgame (2019)', 'Us (2019)', 'Toy Story 4 (2019)', 'Lady Bird (2017)', 'Citizen Kane (1941)', 'Mission: Impossible - Fallout (2018)', 'The Wizard of Oz (1939)', 'The Irishman (2019)', 'BlacKkKlansman (2018)', 'Get Out (2017)', 'Casablanca (1942)', 'Mad Max: Fury Road (2015)', 'Spider-Man: Into the Spider-Verse (2018)', 'Moonlight (2016)', 'Wonder Woman (2017)', 'A Star Is Born (2018)', 'Roma (2018)', 'Dunkirk (2017)', 'Inside Out (2015)', 'The Farewell (2019)', 'Modern Times (1936)', 'A Quiet Place (2018)', 'It Happened One Night (1934)', 'Eighth Grade (2018)', 'A Night at the Opera (1935)', 'Booksmart (2019)', 'The Third Man (1949)', 'Coco (2017)', 'The Shape of Water (2017)', 'Thor: Ragnarok (2017)', 'Selma (2014)', 'Spotlight (2015)', 'The Godfather (1972)', 'La Grande illusion (Grand Illusion) (1938)', 'Snow White and the Seven Dwarfs (1937)', 'Arrival (2016)', \"Singin' in the Rain (1952)\", 'Logan (2017)', 'The Cabinet of Dr. Caligari (Das Cabinet des Dr. Caligari) (1920)', 'Double Indemnity (1944)', 'The Favourite (2018)', 'E.T. The Extra-Terrestrial (1982)', 'The Kid (1921)', 'Spider-Man: Far From Home (2019)', 'The Big Sick (2017)', 'All About Eve (1950)', 'Star Wars: The Last Jedi (2017)', 'Shadow of a Doubt (1943)', 'Paddington 2 (2018)'])\n"
     ]
    }
   ],
   "source": [
    "print(RT_movie_list.keys())"
   ]
  },
  {
   "cell_type": "code",
   "execution_count": 13,
   "metadata": {},
   "outputs": [
    {
     "data": {
      "text/plain": [
       "'I\\'ve watched this film around when it came out but decided to rewatch it again recently just because of the new Spider-Man: Miles Morales game. The premise of the movie is simply \"Bitten by a radioactive spider in the subway, Brooklyn teenager Miles Morales suddenly develops mysterious powers that transform him into the one and only Spider-Man. When he meets Peter Parker, he soon realizes that many others share his special, high-flying talents. Miles must now use his newfound skills to battle the evil Kingpin, a hulking madman who can open portals to other universes and pull different versions of Spider-Man into our world\". I absolutely adored it when it came out but do I still feel that way after rewatching it?\\n\\nFirstly, the animation style and 3D models are absolutely amazing! While I do love the Pixar style of animation, this comic book style of animation was such a breath of fresh air in the animated film department. I also appreciate a lot of the aesthetic choices such as having this shaky movement instead of fluid which further makes it feel like a comic book come to life. The action scenes are also animated really well and are an absolute blast to watch as well. Clearly, a lot of thought went into this and it clearly shows in the movie. \\n\\nMiles Morales (Shameik Moore) is a great main lead. He isn\\'t perfect and is actually very flawed with them making a fair amount of what would be frustrating mistakes. However, the directors succeed in still making us root for him as we can see how much he really wants to pull through for the team. Peter B. Parker (Jake Johnson) is another great Spiderman in this movie who is a mentor figure for Miles. He is a person who has been doing this spiderman business for over 20 years and has a lot of problems with his Peter Parker life such as his divorce with Mary Jane. Due to this, he is quite neglectful of Miles but he goes through his own character arc that is done very well. His chemistry with Miles is one of the things that really shine in this movie. Gwen Stacy/Spider-Woman (Hailee Steinfeld) is the third Spider character that appears in the movie and is mostly there to be the competent and supportive one in the group for Miles. The other three Spider characters Spider-Man Noir (Nicolas Cage),  Peni Parker (Kimiko Glenn) and Peter Porker (John Mulaney) are also all very distinct and different in personality which is perfectly converted despite small screentime. \\n\\nThe cast is also phenomenal, everyone does a great job, especially Shameik Moore and Jake Johnson. There is also some other stellar casting like Brian Tyree Henry as Mile\\'s dad, Mahershala Ali as Mile\\'s Uncle Aaron, Chris Pine as Peter Parker of Mile\\'s universe, Zoë Kravitz as Mary Jane, Kathryn Hahn as Doc Octopus, Liev Schreiber as Kingpin and even Oscar Issac for a mysterious role that I won\\'t spoil. It\\'s an all-star cast and even though some have small roles, Sony still went through with casting big known actors. They all do a great job. The excellent soundtrack further elevates this movie. Every time the Prowler is in the movie there is this horn in the soundtrack that makes him seem more threatening. Additionally, there are some pop, R&B, rap songs within the movie that all fit really well and gives more identity to the movie and characters. \\n\\nThe story is simple yet intriguing enough to keep the audience engaged. It introduced the complex multiverse idea but doesn\\'t overcomplicate it to make it distracting. There are multiple villains but the director makes sure the main focus of villains is Kingpin which is a good idea as multiple focus villains will make the plot feel convoluted. There is also excellent dialogue which is thanks to Phil Lord and Rodney Rothman. The jokes all land and the serious moments are heart-warming and the banter enjoyable. It\\'s good dialogue and none feel wasted. \\n\\nIf I have to give the movie a flaw then I would say it is kind of the Spiderman group dynamic. Spider-Man Noir, Peni Parker and Peter Porker don\\'t interact much with Miles apart from being extremely harsh on him. It makes the last moments with these Spider characters not as strong. Miles also just become an extremely adept Spiderman because the plot needs him to be. It doesn\\'t completely feel justified since it doesn\\'t feel like he was provided with enough training to be that good. However, it doesn\\'t break the movie and the sacrifices are understandable to keep this origin story in just under 2 hours.\\n\\nOverall, Spider-Man into the Spider-verse is still one of the best-animated movies to come out in a long time. I still loved it after rewatching it. It\\'s a fresh take on Spider-Man that we haven\\'t seen before in a movie. If you haven\\'t watched this movie yet then you must absolutely watch this movie. I can\\'t wait for the sequel!'"
      ]
     },
     "execution_count": 13,
     "metadata": {},
     "output_type": "execute_result"
    }
   ],
   "source": [
    "RT_movie_list['Spider-Man: Into the Spider-Verse (2018)']['reviews'][1]"
   ]
  },
  {
   "cell_type": "markdown",
   "metadata": {},
   "source": [
    "#### **Metacritic:**\n",
    " - Page: https://www.metacritic.com/browse/movies/score/metascore/all/filtered?sort=desc\n",
    " - site: https://www.metacritic.com/\n",
    " - The site only has a list of movies ordered in their ranking.\n",
    " - We must visit the page of each movie for further details.\n",
    " - We need two things: Genres and Reviews\n",
    " - Genres: they are available on the movie page in a 'div' with class = 'genre'\n",
    " - Reviews: reviews for each movie can be found in an anchor tag with clas = 'see_all boxed oswald' on the movie page, There are two such anchor tags, we must use the second one since its the tag that represents the user reviews.\n",
    " - All the above fetched data is stored in a dictionary called: META_movie_list in the form: {mocie_name: {genre: [], link: '', reviews: []}}"
   ]
  },
  {
   "cell_type": "code",
   "execution_count": 14,
   "metadata": {},
   "outputs": [],
   "source": [
    "meta_url = 'https://www.metacritic.com/browse/movies/score/metascore/all/filtered?sort=desc'\n",
    "meta_site = 'https://www.metacritic.com'\n",
    "meta_page = requests.get(meta_url, headers = headers)\n",
    "meta_soup = BeautifulSoup(meta_page.content, 'lxml') "
   ]
  },
  {
   "cell_type": "code",
   "execution_count": 15,
   "metadata": {},
   "outputs": [],
   "source": [
    "meta_movies = meta_soup.find('div', class_ = 'title_bump').find_all('td', class_='clamp-summary-wrap')[:50]"
   ]
  },
  {
   "cell_type": "code",
   "execution_count": 16,
   "metadata": {},
   "outputs": [],
   "source": [
    "def get_meta_reviews(link):\n",
    "    reviews = []\n",
    "    rev_page = requests.get(link, headers = headers)\n",
    "    rev_soup = BeautifulSoup(rev_page.content, 'lxml')\n",
    "    try:\n",
    "        revs = rev_soup.find('div', class_ = 'user_reviews').find_all('div', class_ = 'review_body')\n",
    "        if len(revs) > 50:\n",
    "            revs = revs[:50]\n",
    "        for rev in revs:\n",
    "            reviews.append(rev.text.strip())\n",
    "    #         break\n",
    "        return reviews\n",
    "    except:\n",
    "        return ['No Reviews for this movie!']"
   ]
  },
  {
   "cell_type": "code",
   "execution_count": 17,
   "metadata": {},
   "outputs": [],
   "source": [
    "META_movie_list = dict()\n",
    "\n",
    "for movie in meta_movies:\n",
    "    \n",
    "    # movie title\n",
    "    title = movie.find('a', class_ = 'title').text.strip()\n",
    "    link = meta_site + movie.find('a', class_ = 'title').get('href',None)\n",
    "    \n",
    "    # movie genre\n",
    "    m_page = requests.get(link, headers = headers)\n",
    "    m_soup = BeautifulSoup(m_page.content, 'lxml') \n",
    "    genres = m_soup.find('div', class_ = 'genres').text\n",
    "    genres = re.sub('Genre\\(s\\):','',genres).lower() # to remove the genres title from the start of the string\n",
    "    genres = re.sub('\\s+','',genres).split(',')\n",
    "    \n",
    "    # reviews\n",
    "    review_link = meta_site + m_soup.find_all('a', class_ = 'see_all boxed oswald')[1].get('href',None) # 0 is critic review and 1 is user reviews\n",
    "    reviews = get_meta_reviews(review_link)\n",
    "    \n",
    "    META_movie_list[title] = {'link':link, 'genres': genres, 'reviews': reviews}"
   ]
  },
  {
   "cell_type": "code",
   "execution_count": 18,
   "metadata": {},
   "outputs": [
    {
     "name": "stdout",
     "output_type": "stream",
     "text": [
      "dict_keys(['Citizen Kane', 'The Godfather', 'Rear Window', 'Casablanca', 'Boyhood', 'Three Colors: Red', 'Vertigo', 'Notorious', \"Singin' in the Rain\", 'City Lights', 'Moonlight', 'Intolerance', 'Pinocchio', 'Touch of Evil', 'The Treasure of the Sierra Madre', \"Pan's Labyrinth\", 'Some Like It Hot', 'North by Northwest', 'Nomadland', 'Hoop Dreams', 'Rashomon', 'All About Eve', 'Jules and Jim', 'The Wild Bunch', 'My Left Foot', 'The Third Man', 'Dr. Strangelove or: How I Learned to Stop Worrying and Love the Bomb', 'Gone with the Wind', '4 Months, 3 Weeks and 2 Days', 'Psycho', 'Battleship Potemkin', 'A Streetcar Named Desire', 'American Graffiti', 'Dumbo', 'Roma', 'Ran', 'The Shop Around the Corner', '12 Angry Men', 'Manchester by the Sea', \"Rosemary's Baby\", 'The Maltese Falcon', '12 Years a Slave', 'Killer of Sheep', 'Rocks', 'Nashville', 'Ratatouille', 'Parasite', \"Don't Look Now\", 'The Grapes of Wrath', 'Children of Paradise (1945)'])\n"
     ]
    }
   ],
   "source": [
    "print(META_movie_list.keys())"
   ]
  },
  {
   "cell_type": "code",
   "execution_count": 19,
   "metadata": {},
   "outputs": [
    {
     "data": {
      "text/plain": [
       "\"One of the best films I've ever seen and it's masterpiece story telling from beginning to end and by the end you realize this is what real filmmaking is all about the films direction property built the film does have a rather slow pace butOne of the best films I've ever seen and it's masterpiece story telling from beginning to end and by the end you realize this is what real filmmaking is all about the films direction property built the film does have a rather slow pace but overall a excellent movie… Expand\""
      ]
     },
     "execution_count": 19,
     "metadata": {},
     "output_type": "execute_result"
    }
   ],
   "source": [
    "META_movie_list['The Godfather']['reviews'][4]"
   ]
  },
  {
   "cell_type": "markdown",
   "metadata": {},
   "source": [
    "#### **All Data Downloaded! Thats it for Web Scraping!**"
   ]
  },
  {
   "cell_type": "markdown",
   "metadata": {},
   "source": [
    "----\n",
    "### Step 2: Store the downloaded data into a CSV file. Use this CSV file to load the same data in an sqlite database:"
   ]
  },
  {
   "cell_type": "markdown",
   "metadata": {},
   "source": [
    "#### **Storing in csv:**"
   ]
  },
  {
   "cell_type": "markdown",
   "metadata": {},
   "source": [
    "Creating two types of files: movie_genre.csv to store the movie genre details of each website <br>\n",
    "And movie_nam.csv which has two columns id and review. We create this file for each movie.\n",
    "\n",
    "Storage Structure:\n",
    " - nisarg_reviews/\n",
    "    -  imdb/\n",
    "        - movie_genre.csv\n",
    "        - m_movie_name.csv x50\n",
    "    -  rt/\n",
    "        - movie_genre.csv\n",
    "        - m_movie_name.csv x50\n",
    "    -  meta/\n",
    "        - movie_genre.csv\n",
    "        - m_movie_name.csv x50\n",
    "        \n",
    "There are movies that start with numeric or special characters in our list. These characters are not allowed in file naming conventions. to remedy this we will be modifying the movie name on file to be of the format: m_movie_name.csv\n",
    "\n",
    "We will be removing all special characters, replacing spaces with underscore and add an 'm' to the start of the name."
   ]
  },
  {
   "cell_type": "code",
   "execution_count": 20,
   "metadata": {},
   "outputs": [],
   "source": [
    "def save_to_csv(path,movie_list):\n",
    "    \n",
    "    genres = dict()\n",
    "    gen_headers = ['movie name', 'genres']\n",
    "    rev_headers = ['id','review']\n",
    "    \n",
    "    # storing movie reviews\n",
    "    movies = list(movie_list)\n",
    "    for movie in movies:\n",
    "        genres[movie] = movie_list[movie]['genres']\n",
    "        reviews = movie_list[movie]['reviews']\n",
    "        movie = re.sub('[^\\w\\s]+','',movie)\n",
    "        movie = re.sub('\\s+','_',movie)\n",
    "        file = open(path + '/m_' + movie + '.csv','w')\n",
    "        writer = csv.writer(file)\n",
    "        writer.writerow(rev_headers)\n",
    "        \n",
    "        data = [[i,reviews[i]] for i in range(len(reviews))]\n",
    "        writer.writerows(data)\n",
    "        file.close()\n",
    "        \n",
    "    # storing genres\n",
    "    file = open(path + '/movie_genres.csv','w')\n",
    "    g_l = list(genres)\n",
    "    writer = csv.writer(file)\n",
    "    writer.writerow(gen_headers)\n",
    "    for g in g_l:\n",
    "        writer.writerow([g,genres[g]])\n",
    "    file.close()"
   ]
  },
  {
   "cell_type": "code",
   "execution_count": 21,
   "metadata": {},
   "outputs": [],
   "source": [
    "save_to_csv('nisarg_reviews/imdb',IMDB_movie_list)\n",
    "save_to_csv('nisarg_reviews/rt',RT_movie_list)\n",
    "save_to_csv('nisarg_reviews/meta',META_movie_list)"
   ]
  },
  {
   "cell_type": "markdown",
   "metadata": {},
   "source": [
    "#### **Save in SQLite DB:**\n",
    "- following similar structure\n",
    "- SQL/\n",
    "    - imdb.sqlite\n",
    "        - movie_genre\n",
    "        - m_movie_name x50\n",
    "    - rt.sqlite\n",
    "        - movie_genre\n",
    "        - m_movie_name x50\n",
    "    - meta.sqlite\n",
    "        - movie_genre\n",
    "        - m_movie_name x50\n",
    "        \n",
    "following the same naming convention as that of CSV."
   ]
  },
  {
   "cell_type": "code",
   "execution_count": 22,
   "metadata": {},
   "outputs": [],
   "source": [
    "def save_in_db(cur, movie_list):\n",
    "    \n",
    "    genres = dict()\n",
    "    \n",
    "    # storing movie reviews\n",
    "    movies = list(movie_list)\n",
    "    for movie in movies:\n",
    "        \n",
    "        genres[movie] = movie_list[movie]['genres']\n",
    "        reviews = movie_list[movie]['reviews']\n",
    "        movie = re.sub('[^\\w\\s]+','',movie)\n",
    "        movie = 'm_'+re.sub('\\s+','_',movie)\n",
    "        \n",
    "        cur.execute(\"DROP table IF EXISTS \"+movie+\";\")\n",
    "        cur.execute(\"CREATE TABLE \"+movie+\" (id INTEGER, review TEXT);\")\n",
    "        \n",
    "        data = [(i,reviews[i]) for i in range(len(reviews))]\n",
    "        cur.executemany(\"INSERT INTO \"+movie+\" (id, review) VALUES (?, ?);\", data)\n",
    "    \n",
    "    # storing genres\n",
    "    data = [(movie, \",\".join(genres[movie])) for movie in movies]\n",
    "    cur.execute(\"DROP table IF EXISTS movie_genre;\")\n",
    "    cur.execute(\"CREATE TABLE movie_genre (movie_name TEXT, genres TEXT);\")\n",
    "    cur.executemany(\"INSERT INTO movie_genre (movie_name, genres) VALUES (?, ?);\", data)"
   ]
  },
  {
   "cell_type": "code",
   "execution_count": 23,
   "metadata": {},
   "outputs": [],
   "source": [
    "imdb_conn = sqlite3.connect(\"SQL/imdb.sqlite\")\n",
    "rt_conn = sqlite3.connect(\"SQL/rt.sqlite\")\n",
    "meta_conn = sqlite3.connect(\"SQL/meta.sqlite\")\n",
    "\n",
    "save_in_db(imdb_conn.cursor(),IMDB_movie_list)\n",
    "save_in_db(rt_conn.cursor(),RT_movie_list)\n",
    "save_in_db(meta_conn.cursor(),META_movie_list)\n",
    "\n",
    "imdb_conn.commit()\n",
    "imdb_conn.close()\n",
    "rt_conn.commit()\n",
    "rt_conn.close()\n",
    "meta_conn.commit()\n",
    "meta_conn.close()"
   ]
  },
  {
   "cell_type": "markdown",
   "metadata": {},
   "source": [
    "----\n",
    "### Step 3: Pre-process and clean data and create vocabulary:\n",
    "      - Remove special characters and extra spaces\n",
    "      - Lowercase all text\n",
    "      - create a wordlist and a vocabulary from the movie reviews\n",
    "      - Remove the stop words"
   ]
  },
  {
   "cell_type": "code",
   "execution_count": 24,
   "metadata": {},
   "outputs": [],
   "source": [
    "def create_wordlist(movie_details):\n",
    "    \n",
    "    wordlist = []\n",
    "    movies = list(movie_details)\n",
    "    \n",
    "    for movie in movies:\n",
    "        reviews = movie_details[movie]['reviews']\n",
    "        for review in reviews:\n",
    "            rev = re.sub('[^\\w\\s]+','',review)\n",
    "            words = rev.lower().strip().split()\n",
    "            wordlist.extend(words)\n",
    "    return wordlist\n",
    "\n",
    "# vocabulary is a dictionary with word and its frequency of occurrence - {word:count}\n",
    "def create_vocabulary(wordlist):\n",
    "    words, freq = np.unique(wordlist, return_counts=True)\n",
    "    vocabulary = dict(zip(words, freq))\n",
    "    stop_words = stopwords.words('english')\n",
    "    # remove stop words\n",
    "    for word in words:\n",
    "        if word in stop_words:\n",
    "            del vocabulary[word]\n",
    "    \n",
    "    return vocabulary"
   ]
  },
  {
   "cell_type": "code",
   "execution_count": 25,
   "metadata": {},
   "outputs": [
    {
     "name": "stdout",
     "output_type": "stream",
     "text": [
      "total no of words:  582390\n",
      "unique no of words with no stop words:  29294\n"
     ]
    }
   ],
   "source": [
    "imdb_wordlist = create_wordlist(IMDB_movie_list)\n",
    "imdb_vocab = create_vocabulary(imdb_wordlist)\n",
    "\n",
    "print('total no of words: ', len(imdb_wordlist))\n",
    "print('unique no of words with no stop words: ', len(imdb_vocab))"
   ]
  },
  {
   "cell_type": "code",
   "execution_count": 26,
   "metadata": {},
   "outputs": [
    {
     "name": "stdout",
     "output_type": "stream",
     "text": [
      "total no of words:  33483\n",
      "unique no of words with no stop words:  5631\n"
     ]
    }
   ],
   "source": [
    "rt_wordlist = create_wordlist(RT_movie_list)\n",
    "rt_vocab = create_vocabulary(rt_wordlist)\n",
    "\n",
    "print('total no of words: ', len(rt_wordlist))\n",
    "print('unique no of words with no stop words: ', len(rt_vocab))"
   ]
  },
  {
   "cell_type": "code",
   "execution_count": 27,
   "metadata": {},
   "outputs": [
    {
     "name": "stdout",
     "output_type": "stream",
     "text": [
      "total no of words:  113290\n",
      "unique no of words with no stop words:  11334\n"
     ]
    }
   ],
   "source": [
    "meta_wordlist = create_wordlist(META_movie_list)\n",
    "meta_vocab = create_vocabulary(meta_wordlist)\n",
    "\n",
    "print('total no of words: ', len(meta_wordlist))\n",
    "print('unique no of words with no stop words: ', len(meta_vocab))"
   ]
  },
  {
   "cell_type": "markdown",
   "metadata": {},
   "source": [
    "#### **Vocabularies created!!**"
   ]
  },
  {
   "cell_type": "markdown",
   "metadata": {},
   "source": [
    "----\n",
    "### Step 4: Use word dictionary to find the top 50 used words on each site, merge this list and create a unique list of words to be the word_attributes:"
   ]
  },
  {
   "cell_type": "code",
   "execution_count": 28,
   "metadata": {},
   "outputs": [],
   "source": [
    "def sort_dict(vocab):\n",
    "    sorted_dict = dict(sorted(vocab.items(), key=operator.itemgetter(1),reverse=True))\n",
    "    return sorted_dict"
   ]
  },
  {
   "cell_type": "code",
   "execution_count": 29,
   "metadata": {},
   "outputs": [
    {
     "name": "stdout",
     "output_type": "stream",
     "text": [
      "['film', 'movie', 'one', 'time', 'like', 'story', 'best', 'great', 'good', 'see', 'first', 'even', 'movies', 'films', 'characters', 'really', 'would', 'ever', 'well', 'also', 'many', 'much', 'people', 'life', 'way', 'made', 'seen', 'character', 'watch', 'never', 'think', 'dont', 'get', 'make', 'two', 'could', 'every', 'scenes', 'say', 'acting', 'love', 'action', 'still', 'us', 'scene', 'world', 'makes', 'know', 'back', 'better']\n"
     ]
    }
   ],
   "source": [
    "imdb_sorted = sort_dict(imdb_vocab)\n",
    "imdb_top_50_words = list(imdb_sorted)[:50]\n",
    "print(imdb_top_50_words)"
   ]
  },
  {
   "cell_type": "code",
   "execution_count": 30,
   "metadata": {},
   "outputs": [
    {
     "name": "stdout",
     "output_type": "stream",
     "text": [
      "['movie', 'film', 'one', 'story', 'good', 'like', 'best', 'time', 'great', 'well', 'movies', 'de', 'que', 'really', 'even', 'watch', 'would', 'characters', 'films', 'love', 'also', 'think', 'get', 'la', 'made', 'amazing', 'see', 'still', 'acting', 'ever', 'much', 'en', 'plot', 'seen', 'say', 'classic', 'funny', 'way', 'dont', 'never', 'yet', 'el', 'end', 'life', 'perfect', 'una', 'many', 'scene', 'could', 'didnt']\n"
     ]
    }
   ],
   "source": [
    "rt_sorted = sort_dict(rt_vocab)\n",
    "rt_top_50_words = list(rt_sorted)[:50]\n",
    "print(rt_top_50_words)"
   ]
  },
  {
   "cell_type": "code",
   "execution_count": 31,
   "metadata": {},
   "outputs": [
    {
     "name": "stdout",
     "output_type": "stream",
     "text": [
      "['movie', 'film', 'one', 'expand', 'best', 'like', 'story', 'time', 'great', 'ever', 'good', 'really', 'films', 'movies', 'see', 'made', 'life', 'well', 'character', 'acting', 'years', 'even', 'watch', 'also', 'much', 'de', 'way', 'characters', 'people', 'dont', 'seen', 'would', 'many', 'think', 'every', 'get', 'masterpiece', 'la', 'first', 'never', 'plot', 'say', 'scenes', 'love', 'still', 'scene', 'end', 'greatest', 'make', 'nothing']\n"
     ]
    }
   ],
   "source": [
    "meta_sorted = sort_dict(meta_vocab)\n",
    "meta_top_50_words = list(meta_sorted)[:50]\n",
    "print(meta_top_50_words)"
   ]
  },
  {
   "cell_type": "code",
   "execution_count": 32,
   "metadata": {},
   "outputs": [
    {
     "name": "stdout",
     "output_type": "stream",
     "text": [
      "word attribute list:  {'still', 'ever', 'every', 'expand', 'action', 'plot', 'characters', 'seen', 'que', 'character', 'first', 'yet', 'know', 'much', 'scene', 'watch', 'never', 'better', 'classic', 'greatest', 'life', 'story', 'us', 'way', 'time', 'best', 'masterpiece', 'end', 'dont', 'one', 'think', 'like', 'movie', 'movies', 'really', 'two', 'de', 'amazing', 'el', 'years', 'film', 'would', 'perfect', 'makes', 'love', 'films', 'good', 'una', 'made', 'even', 'say', 'scenes', 'get', 'see', 'en', 'acting', 'many', 'could', 'world', 'nothing', 'also', 'people', 'funny', 'didnt', 'make', 'la', 'well', 'great', 'back'}\n"
     ]
    }
   ],
   "source": [
    "word_attribute_list = set(imdb_top_50_words + rt_top_50_words + meta_top_50_words)\n",
    "print(\"word attribute list: \",word_attribute_list)"
   ]
  },
  {
   "cell_type": "markdown",
   "metadata": {},
   "source": [
    "----\n",
    "### Step 5: Use this word_attributes list to create movie review vectors for each movie. and calculate cosine similarity between each website:\n",
    "#### **Word attribute vector for each movie:**"
   ]
  },
  {
   "cell_type": "code",
   "execution_count": 33,
   "metadata": {},
   "outputs": [
    {
     "name": "stdout",
     "output_type": "stream",
     "text": [
      "IMDB vector:  [561, 1016, 648, 8, 599, 487, 1043, 870, 0, 825, 1154, 356, 519, 966, 558, 816, 774, 512, 278, 316, 925, 1524, 560, 901, 1682, 1495, 369, 481, 728, 3031, 730, 1660, 4877, 1122, 1039, 708, 142, 414, 2, 498, 5013, 1038, 434, 521, 623, 1119, 1283, 0, 892, 1138, 627, 629, 714, 1209, 7, 626, 974, 673, 538, 331, 977, 927, 135, 337, 712, 43, 995, 1366, 512]\n",
      "---------------------------\n",
      "RT vector:  [50, 46, 31, 0, 27, 44, 67, 44, 78, 33, 31, 40, 33, 46, 37, 73, 40, 24, 41, 23, 38, 147, 29, 41, 103, 108, 17, 38, 40, 167, 54, 113, 335, 83, 76, 32, 82, 51, 39, 21, 281, 71, 38, 26, 55, 61, 118, 38, 52, 75, 43, 23, 53, 51, 44, 46, 37, 36, 22, 18, 54, 29, 41, 35, 34, 52, 84, 102, 22]\n",
      "---------------------------\n",
      "META vector:  [121, 302, 138, 625, 18, 124, 167, 156, 101, 190, 126, 48, 90, 175, 118, 178, 125, 94, 82, 115, 212, 342, 94, 169, 316, 404, 133, 117, 157, 626, 149, 349, 1279, 223, 273, 68, 174, 104, 31, 189, 1187, 155, 94, 104, 122, 223, 277, 40, 213, 186, 123, 123, 133, 223, 50, 189, 150, 96, 62, 113, 177, 166, 44, 68, 114, 131, 192, 305, 58]\n"
     ]
    }
   ],
   "source": [
    "imdb_vector = [imdb_vocab.get(word,0) for word in word_attribute_list]\n",
    "rt_vector = [rt_vocab.get(word,0) for word in word_attribute_list]\n",
    "meta_vector = [meta_vocab.get(word,0) for word in word_attribute_list]\n",
    "\n",
    "print(\"IMDB vector: \", imdb_vector)\n",
    "print(\"---------------------------\")\n",
    "print(\"RT vector: \", rt_vector)\n",
    "print(\"---------------------------\")\n",
    "print(\"META vector: \", meta_vector)"
   ]
  },
  {
   "cell_type": "code",
   "execution_count": 34,
   "metadata": {},
   "outputs": [],
   "source": [
    "def cosine_sim(p,q):\n",
    "    \n",
    "    p = np.asmatrix(p)\n",
    "    q = np.asmatrix(q)\n",
    "    dot = np.dot(p,q.T)\n",
    "    p_det = np.linalg.norm(p)\n",
    "    q_det = np.linalg.norm(q)\n",
    "    cos = dot / (p_det * q_det)\n",
    "\n",
    "    return cos.item()"
   ]
  },
  {
   "cell_type": "markdown",
   "metadata": {},
   "source": [
    "#### **Calculater Cosine Similarity:**\n",
    "**IMDB and Rotten Tomatoes:**"
   ]
  },
  {
   "cell_type": "code",
   "execution_count": 35,
   "metadata": {},
   "outputs": [
    {
     "data": {
      "text/plain": [
       "0.9551444607366143"
      ]
     },
     "execution_count": 35,
     "metadata": {},
     "output_type": "execute_result"
    }
   ],
   "source": [
    "cosine_sim(imdb_vector,rt_vector)"
   ]
  },
  {
   "cell_type": "markdown",
   "metadata": {},
   "source": [
    "**IMDB and Metacritic:**"
   ]
  },
  {
   "cell_type": "code",
   "execution_count": 36,
   "metadata": {},
   "outputs": [
    {
     "data": {
      "text/plain": [
       "0.9462254599007427"
      ]
     },
     "execution_count": 36,
     "metadata": {},
     "output_type": "execute_result"
    }
   ],
   "source": [
    "cosine_sim(imdb_vector,meta_vector)"
   ]
  },
  {
   "cell_type": "markdown",
   "metadata": {},
   "source": [
    "**Metacritic and Rotten Tomatoes:**"
   ]
  },
  {
   "cell_type": "code",
   "execution_count": 37,
   "metadata": {},
   "outputs": [
    {
     "data": {
      "text/plain": [
       "0.9338429843128762"
      ]
     },
     "execution_count": 37,
     "metadata": {},
     "output_type": "execute_result"
    }
   ],
   "source": [
    "cosine_sim(meta_vector,rt_vector)"
   ]
  },
  {
   "cell_type": "markdown",
   "metadata": {},
   "source": [
    "#### **Task 1 Complete!**"
   ]
  },
  {
   "cell_type": "markdown",
   "metadata": {},
   "source": [
    "----\n",
    "### Step 6: Create a dictionary from the genre details of each movie for each website:\n",
    "- this dictionary captures the genres and their frequency of occurrence on the list of movies.\n",
    "- {genre:count}\n",
    "- we can use the above create_vocab function for creating the dictionary"
   ]
  },
  {
   "cell_type": "code",
   "execution_count": 38,
   "metadata": {},
   "outputs": [],
   "source": [
    "def genre_list(movie_details):\n",
    "    genres = []\n",
    "    for movie in movie_details:\n",
    "        genres.extend(movie_details[movie]['genres'])\n",
    "    return genres"
   ]
  },
  {
   "cell_type": "code",
   "execution_count": 39,
   "metadata": {},
   "outputs": [
    {
     "name": "stdout",
     "output_type": "stream",
     "text": [
      "Genres:  {'action': 14, 'adventure': 12, 'animation': 3, 'biography': 5, 'comedy': 4, 'crime': 15, 'drama': 39, 'family': 2, 'fantasy': 4, 'history': 2, 'horror': 1, 'music': 2, 'mystery': 5, 'romance': 2, 'sci-fi': 6, 'thriller': 6, 'war': 2, 'western': 2}\n"
     ]
    }
   ],
   "source": [
    "imdb_genre_list = genre_list(IMDB_movie_list)\n",
    "imdb_genres = create_vocabulary(imdb_genre_list)\n",
    "print(\"Genres: \", imdb_genres)"
   ]
  },
  {
   "cell_type": "code",
   "execution_count": 40,
   "metadata": {},
   "outputs": [
    {
     "name": "stdout",
     "output_type": "stream",
     "text": [
      "Genres:  {'action': 10, 'adventure': 14, 'animation': 5, 'comedy': 18, 'crime': 5, 'drama': 21, 'fantasy': 13, 'history': 2, 'horror': 4, 'kidsandfamily': 8, 'music': 2, 'musical': 2, 'mysteryandthriller': 7, 'romance': 4, 'scifi': 5, 'war': 2}\n"
     ]
    }
   ],
   "source": [
    "rt_genre_list = genre_list(RT_movie_list)\n",
    "rt_genres = create_vocabulary(rt_genre_list)\n",
    "print(\"Genres: \", rt_genres)"
   ]
  },
  {
   "cell_type": "code",
   "execution_count": 41,
   "metadata": {},
   "outputs": [
    {
     "name": "stdout",
     "output_type": "stream",
     "text": [
      "Genres:  {'action': 3, 'adventure': 3, 'animation': 3, 'biography': 2, 'comedy': 9, 'crime': 4, 'documentary': 1, 'drama': 39, 'family': 3, 'fantasy': 3, 'film-noir': 4, 'history': 5, 'horror': 3, 'music': 1, 'musical': 3, 'mystery': 10, 'romance': 11, 'sport': 1, 'thriller': 13, 'war': 5, 'western': 2}\n"
     ]
    }
   ],
   "source": [
    "meta_genre_list = genre_list(META_movie_list)\n",
    "meta_genres = create_vocabulary(meta_genre_list)\n",
    "print(\"Genres: \", meta_genres)"
   ]
  },
  {
   "cell_type": "markdown",
   "metadata": {},
   "source": [
    "#### ****Since the number of genres is relatively low, instead of taking top 50 we take all genres and merge them to create a list of unique genres.****"
   ]
  },
  {
   "cell_type": "code",
   "execution_count": 42,
   "metadata": {},
   "outputs": [
    {
     "name": "stdout",
     "output_type": "stream",
     "text": [
      "{'crime', 'war', 'action', 'romance', 'history', 'music', 'biography', 'animation', 'family', 'documentary', 'drama', 'horror', 'sci-fi', 'musical', 'mysteryandthriller', 'western', 'sport', 'fantasy', 'adventure', 'kidsandfamily', 'film-noir', 'mystery', 'scifi', 'comedy', 'thriller'}\n"
     ]
    }
   ],
   "source": [
    "genre_attr_list = set(list(imdb_genres) + list(rt_genres) + list(meta_genres))\n",
    "print(genre_attr_list)"
   ]
  },
  {
   "cell_type": "markdown",
   "metadata": {},
   "source": [
    "#### **Based on the above list we create genre vectors:**"
   ]
  },
  {
   "cell_type": "code",
   "execution_count": 43,
   "metadata": {},
   "outputs": [
    {
     "name": "stdout",
     "output_type": "stream",
     "text": [
      "IMDB vector:  [15, 2, 14, 2, 2, 2, 5, 3, 2, 0, 39, 1, 6, 0, 0, 2, 0, 4, 12, 0, 0, 5, 0, 4, 6]\n",
      "---------------------------\n",
      "RT vector:  [5, 2, 10, 4, 2, 2, 0, 5, 0, 0, 21, 4, 0, 2, 7, 0, 0, 13, 14, 8, 0, 0, 5, 18, 0]\n",
      "---------------------------\n",
      "META vector:  [4, 5, 3, 11, 5, 1, 2, 3, 3, 1, 39, 3, 0, 3, 0, 2, 1, 3, 3, 0, 4, 10, 0, 9, 13]\n"
     ]
    }
   ],
   "source": [
    "imdb_g_v = [imdb_genres.get(g,0) for g in genre_attr_list]\n",
    "rt_g_v = [rt_genres.get(g,0) for g in genre_attr_list]\n",
    "meta_g_v = [meta_genres.get(g,0) for g in genre_attr_list]\n",
    "\n",
    "print(\"IMDB vector: \", imdb_g_v)\n",
    "print(\"---------------------------\")\n",
    "print(\"RT vector: \", rt_g_v)\n",
    "print(\"---------------------------\")\n",
    "print(\"META vector: \", meta_g_v)"
   ]
  },
  {
   "cell_type": "markdown",
   "metadata": {},
   "source": [
    "#### **Calculater Cosine Similarity:**\n",
    "**IMDB and Rotten Tomatoes:**"
   ]
  },
  {
   "cell_type": "code",
   "execution_count": 44,
   "metadata": {},
   "outputs": [
    {
     "data": {
      "text/plain": [
       "0.7476019681651895"
      ]
     },
     "execution_count": 44,
     "metadata": {},
     "output_type": "execute_result"
    }
   ],
   "source": [
    "cosine_sim(imdb_g_v,rt_g_v)"
   ]
  },
  {
   "cell_type": "markdown",
   "metadata": {},
   "source": [
    "**IMDB and Metacritic:**"
   ]
  },
  {
   "cell_type": "code",
   "execution_count": 45,
   "metadata": {},
   "outputs": [
    {
     "data": {
      "text/plain": [
       "0.8646658729415193"
      ]
     },
     "execution_count": 45,
     "metadata": {},
     "output_type": "execute_result"
    }
   ],
   "source": [
    "cosine_sim(imdb_g_v,meta_g_v)"
   ]
  },
  {
   "cell_type": "markdown",
   "metadata": {},
   "source": [
    "**Metacritic and Rotten Tomatoes:**"
   ]
  },
  {
   "cell_type": "code",
   "execution_count": 46,
   "metadata": {},
   "outputs": [
    {
     "data": {
      "text/plain": [
       "0.6824329998331107"
      ]
     },
     "execution_count": 46,
     "metadata": {},
     "output_type": "execute_result"
    }
   ],
   "source": [
    "cosine_sim(meta_g_v,rt_g_v)"
   ]
  },
  {
   "cell_type": "markdown",
   "metadata": {},
   "source": [
    "#### **Task 2 Complete!**"
   ]
  },
  {
   "cell_type": "code",
   "execution_count": null,
   "metadata": {},
   "outputs": [],
   "source": []
  }
 ],
 "metadata": {
  "kernelspec": {
   "display_name": "Python 3",
   "language": "python",
   "name": "python3"
  },
  "language_info": {
   "codemirror_mode": {
    "name": "ipython",
    "version": 3
   },
   "file_extension": ".py",
   "mimetype": "text/x-python",
   "name": "python",
   "nbconvert_exporter": "python",
   "pygments_lexer": "ipython3",
   "version": "3.8.5"
  }
 },
 "nbformat": 4,
 "nbformat_minor": 4
}
